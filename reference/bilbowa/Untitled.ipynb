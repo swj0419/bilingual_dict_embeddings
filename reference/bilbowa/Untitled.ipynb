{
 "cells": [
  {
   "cell_type": "code",
   "execution_count": 51,
   "metadata": {},
   "outputs": [],
   "source": [
    "import math\n",
    "import os\n",
    "from os.path import join\n",
    "import time\n",
    "\n",
    "from absl import app\n",
    "from absl import flags\n",
    "from absl import logging\n",
    "from tqdm import tqdm\n",
    "import numpy as np\n",
    "\n",
    "from keras.optimizers import Adam\n",
    "\n",
    "# from data import Embedding, MultiLanguageEmbedding, \\\n",
    "#     LazyIndexCorpus,  Word2vecIterator, BilbowaIterator\n",
    "\n",
    "from data import *\n",
    "from model import get_model, word2vec_loss, bilbowa_loss, strong_pair_loss, weak_pair_loss\n",
    "\n"
   ]
  },
  {
   "cell_type": "code",
   "execution_count": 52,
   "metadata": {},
   "outputs": [
    {
     "data": {
      "text/plain": [
       "'/Applications/Setapp/GD/research/cross-lingual/bilingual_dict_embeddings/reference/bilbowa'"
      ]
     },
     "execution_count": 52,
     "metadata": {},
     "output_type": "execute_result"
    }
   ],
   "source": [
    "os.getcwd()\n"
   ]
  },
  {
   "cell_type": "code",
   "execution_count": 55,
   "metadata": {},
   "outputs": [
    {
     "name": "stderr",
     "output_type": "stream",
     "text": [
      "100%|██████████| 995003/995003 [00:40<00:00, 24839.62 words/s]\n"
     ]
    },
    {
     "ename": "FileNotFoundError",
     "evalue": "[Errno 2] No such file or directory: './data_root/withctx.en-fr.fr.50.1.txt '",
     "output_type": "error",
     "traceback": [
      "\u001b[0;31m---------------------------------------------------------------------------\u001b[0m",
      "\u001b[0;31mFileNotFoundError\u001b[0m                         Traceback (most recent call last)",
      "\u001b[0;32m<ipython-input-55-742e90a3a99e>\u001b[0m in \u001b[0;36m<module>\u001b[0;34m()\u001b[0m\n\u001b[1;32m      1\u001b[0m \u001b[0memb0\u001b[0m \u001b[0;34m=\u001b[0m \u001b[0mEmbedding\u001b[0m\u001b[0;34m(\u001b[0m\u001b[0;34m\"./data_root/withctx.en-fr.en.50.1.txt\"\u001b[0m\u001b[0;34m)\u001b[0m\u001b[0;34m\u001b[0m\u001b[0m\n\u001b[0;32m----> 2\u001b[0;31m \u001b[0memb1\u001b[0m \u001b[0;34m=\u001b[0m \u001b[0mEmbedding\u001b[0m\u001b[0;34m(\u001b[0m\u001b[0;34m\"./data_root/withctx.en-fr.fr.50.1.txt \"\u001b[0m\u001b[0;34m)\u001b[0m\u001b[0;34m\u001b[0m\u001b[0m\n\u001b[0m\u001b[1;32m      3\u001b[0m \u001b[0memb\u001b[0m \u001b[0;34m=\u001b[0m \u001b[0mMultiLanguageEmbedding\u001b[0m\u001b[0;34m(\u001b[0m\u001b[0memb0\u001b[0m\u001b[0;34m,\u001b[0m \u001b[0memb1\u001b[0m\u001b[0;34m)\u001b[0m\u001b[0;34m\u001b[0m\u001b[0m\n\u001b[1;32m      4\u001b[0m \u001b[0mvocab\u001b[0m \u001b[0;34m=\u001b[0m \u001b[0memb\u001b[0m\u001b[0;34m.\u001b[0m\u001b[0mget_vocab\u001b[0m\u001b[0;34m(\u001b[0m\u001b[0;34m)\u001b[0m\u001b[0;34m\u001b[0m\u001b[0m\n\u001b[1;32m      5\u001b[0m \u001b[0memb_matrix\u001b[0m \u001b[0;34m=\u001b[0m \u001b[0memb\u001b[0m\u001b[0;34m.\u001b[0m\u001b[0mget_emb\u001b[0m\u001b[0;34m(\u001b[0m\u001b[0;34m)\u001b[0m\u001b[0;34m\u001b[0m\u001b[0m\n",
      "\u001b[0;32m/Applications/Setapp/GD/research/cross-lingual/bilingual_dict_embeddings/reference/bilbowa/data.py\u001b[0m in \u001b[0;36m__init__\u001b[0;34m(self, emb_file, stopwords_file, keep_emb)\u001b[0m\n\u001b[1;32m     33\u001b[0m                 \u001b[0mself\u001b[0m\u001b[0;34m.\u001b[0m\u001b[0mvocablower2id\u001b[0m\u001b[0;34m,\u001b[0m\u001b[0;34m\u001b[0m\u001b[0m\n\u001b[1;32m     34\u001b[0m             \u001b[0;34m)\u001b[0m \u001b[0;34m=\u001b[0m \u001b[0mself\u001b[0m\u001b[0;34m.\u001b[0m\u001b[0mload_emb\u001b[0m\u001b[0;34m(\u001b[0m\u001b[0;34m\u001b[0m\u001b[0m\n\u001b[0;32m---> 35\u001b[0;31m                 emb_file, keep_emb=keep_emb)\n\u001b[0m\u001b[1;32m     36\u001b[0m \u001b[0;34m\u001b[0m\u001b[0m\n\u001b[1;32m     37\u001b[0m         \u001b[0;32mif\u001b[0m \u001b[0mstopwords_file\u001b[0m\u001b[0;34m:\u001b[0m\u001b[0;34m\u001b[0m\u001b[0m\n",
      "\u001b[0;32m/Applications/Setapp/GD/research/cross-lingual/bilingual_dict_embeddings/reference/bilbowa/data.py\u001b[0m in \u001b[0;36mload_emb\u001b[0;34m(self, filepath, keep_emb)\u001b[0m\n\u001b[1;32m     51\u001b[0m         \u001b[0mlogging\u001b[0m\u001b[0;34m.\u001b[0m\u001b[0minfo\u001b[0m\u001b[0;34m(\u001b[0m\u001b[0;34m'Embedding: Loading embedding from %s'\u001b[0m\u001b[0;34m,\u001b[0m \u001b[0mfilepath\u001b[0m\u001b[0;34m)\u001b[0m\u001b[0;34m\u001b[0m\u001b[0m\n\u001b[1;32m     52\u001b[0m         \u001b[0mvocab\u001b[0m\u001b[0;34m,\u001b[0m \u001b[0memb\u001b[0m \u001b[0;34m=\u001b[0m \u001b[0;34m[\u001b[0m\u001b[0;34m]\u001b[0m\u001b[0;34m,\u001b[0m \u001b[0;34m[\u001b[0m\u001b[0;34m]\u001b[0m\u001b[0;34m\u001b[0m\u001b[0m\n\u001b[0;32m---> 53\u001b[0;31m         \u001b[0mfin\u001b[0m \u001b[0;34m=\u001b[0m \u001b[0mopen\u001b[0m\u001b[0;34m(\u001b[0m\u001b[0mfilepath\u001b[0m\u001b[0;34m,\u001b[0m \u001b[0merrors\u001b[0m\u001b[0;34m=\u001b[0m\u001b[0;34m'surrogateescape'\u001b[0m\u001b[0;34m)\u001b[0m\u001b[0;34m\u001b[0m\u001b[0m\n\u001b[0m\u001b[1;32m     54\u001b[0m         \u001b[0mn\u001b[0m\u001b[0;34m,\u001b[0m \u001b[0mdim\u001b[0m \u001b[0;34m=\u001b[0m \u001b[0mmap\u001b[0m\u001b[0;34m(\u001b[0m\u001b[0mint\u001b[0m\u001b[0;34m,\u001b[0m \u001b[0mfin\u001b[0m\u001b[0;34m.\u001b[0m\u001b[0mreadline\u001b[0m\u001b[0;34m(\u001b[0m\u001b[0;34m)\u001b[0m\u001b[0;34m.\u001b[0m\u001b[0mstrip\u001b[0m\u001b[0;34m(\u001b[0m\u001b[0;34m)\u001b[0m\u001b[0;34m.\u001b[0m\u001b[0msplit\u001b[0m\u001b[0;34m(\u001b[0m\u001b[0;34m)\u001b[0m\u001b[0;34m)\u001b[0m\u001b[0;34m\u001b[0m\u001b[0m\n\u001b[1;32m     55\u001b[0m         \u001b[0;32mfor\u001b[0m \u001b[0mi\u001b[0m \u001b[0;32min\u001b[0m \u001b[0mtqdm\u001b[0m\u001b[0;34m(\u001b[0m\u001b[0mrange\u001b[0m\u001b[0;34m(\u001b[0m\u001b[0mn\u001b[0m\u001b[0;34m)\u001b[0m\u001b[0;34m,\u001b[0m \u001b[0munit\u001b[0m\u001b[0;34m=\u001b[0m\u001b[0;34m' words'\u001b[0m\u001b[0;34m)\u001b[0m\u001b[0;34m:\u001b[0m\u001b[0;34m\u001b[0m\u001b[0m\n",
      "\u001b[0;31mFileNotFoundError\u001b[0m: [Errno 2] No such file or directory: './data_root/withctx.en-fr.fr.50.1.txt '"
     ]
    }
   ],
   "source": [
    "emb0 = Embedding(\"./data_root/withctx.en-fr.en.50.1.txt\")\n"
   ]
  },
  {
   "cell_type": "code",
   "execution_count": 56,
   "metadata": {},
   "outputs": [
    {
     "name": "stderr",
     "output_type": "stream",
     "text": [
      "100%|██████████| 432455/432455 [00:21<00:00, 20523.31 words/s]\n"
     ]
    }
   ],
   "source": [
    "emb1 = Embedding(\"./data_root/withctx.en-fr.fr.50.1.txt\")\n",
    "emb = MultiLanguageEmbedding(emb0, emb1)\n",
    "vocab = emb.get_vocab()\n",
    "emb_matrix = emb.get_emb()\n"
   ]
  },
  {
   "cell_type": "code",
   "execution_count": 57,
   "metadata": {},
   "outputs": [],
   "source": [
    "strong, weak = read_pair()\n",
    "strong_id, weak_id, l0_dict, l1_dict = pair2id(strong, weak, emb)"
   ]
  },
  {
   "cell_type": "code",
   "execution_count": 58,
   "metadata": {},
   "outputs": [
    {
     "name": "stderr",
     "output_type": "stream",
     "text": [
      "100%|██████████| 995003/995003 [00:40<00:00, 24680.51 words/s]\n",
      "100%|██████████| 432455/432455 [00:12<00:00, 33520.77 words/s]\n"
     ]
    }
   ],
   "source": [
    "ctxemb0 = Embedding(\"./data_root/withctx.en-fr.en.50.1.txt.ctx\")\n",
    "ctxemb1 = Embedding(\"./data_root/withctx.en-fr.fr.50.1.txt.ctx\")\n",
    "ctxemb = MultiLanguageEmbedding(ctxemb0, ctxemb1)\n",
    "ctxvocab = ctxemb.get_vocab()\n",
    "ctxemb_matrix = ctxemb.get_emb()"
   ]
  },
  {
   "cell_type": "code",
   "execution_count": 59,
   "metadata": {},
   "outputs": [],
   "source": [
    "assert tuple(ctxvocab) == tuple(vocab)"
   ]
  },
  {
   "cell_type": "code",
   "execution_count": 62,
   "metadata": {},
   "outputs": [],
   "source": [
    "mono_max_lines = 10000\n",
    "mono0 = LazyIndexCorpus(\"./data_root/en_mono\",\n",
    "        max_lines=mono_max_lines)\n",
    "\n",
    "mono1 = LazyIndexCorpus(\"./data_root/en_mono\",mono_max_lines)"
   ]
  },
  {
   "cell_type": "code",
   "execution_count": 64,
   "metadata": {},
   "outputs": [],
   "source": [
    "multi_max_lines = 10000\n",
    "multi0 = LazyIndexCorpus(\"./data_root/en_multi\",max_lines=multi_max_lines)\n",
    "multi1 = LazyIndexCorpus(\"./data_root/fr_multi\",max_lines=multi_max_lines)"
   ]
  },
  {
   "cell_type": "code",
   "execution_count": 65,
   "metadata": {},
   "outputs": [],
   "source": [
    "mono0_unigram_table = mono0.get_unigram_table(vocab_size=len(vocab))\n",
    "mono1_unigram_table = mono1.get_unigram_table(vocab_size=len(vocab))"
   ]
  },
  {
   "cell_type": "code",
   "execution_count": 67,
   "metadata": {},
   "outputs": [],
   "source": [
    "emb_subsample = 1e-5\n",
    "word2vec_negative_size = 10\n",
    "word2vec_batch_size = 100000\n",
    "mono0_iterator = Word2vecIterator(\n",
    "        mono0,\n",
    "        mono0_unigram_table,\n",
    "        subsample=emb_subsample,\n",
    "        window_size=word2vec_negative_size,\n",
    "        negative_samples=word2vec_negative_size,\n",
    "        batch_size=word2vec_batch_size,\n",
    "    )\n",
    "\n",
    "mono1_iterator = Word2vecIterator(\n",
    "        mono1,\n",
    "        mono1_unigram_table,\n",
    "        subsample=emb_subsample,\n",
    "        window_size=word2vec_negative_size,\n",
    "        negative_samples=word2vec_negative_size,\n",
    "        batch_size=word2vec_batch_size,\n",
    "    )"
   ]
  },
  {
   "cell_type": "code",
   "execution_count": 68,
   "metadata": {},
   "outputs": [],
   "source": [
    "bilbowa_sent_length = 50\n",
    "bilbowa_batch_size = 100\n",
    "multi_iterator = BilbowaIterator(\n",
    "    multi0,\n",
    "    multi1,\n",
    "    mono0_unigram_table,\n",
    "    mono1_unigram_table,\n",
    "    subsample=emb_subsample,\n",
    "    length=bilbowa_sent_length,\n",
    "    batch_size=bilbowa_batch_size,\n",
    ")"
   ]
  },
  {
   "cell_type": "code",
   "execution_count": 70,
   "metadata": {},
   "outputs": [],
   "source": [
    "# strong pair iterator\n",
    "strong_batch_size = 1000\n",
    "strong_negative_size = 10\n",
    "strong_pair_iterator = strong_pairIterator(\n",
    "    strong_id,\n",
    "    mono0_unigram_table,\n",
    "    mono1_unigram_table,\n",
    "    batch_size = strong_batch_size,\n",
    "    negative_samples = strong_negative_size,\n",
    "    l0_dict = l0_dict,\n",
    "    l1_dict = l1_dict\n",
    ")\n",
    "\n",
    "# weak pair iterator\n",
    "weak_batch_size = 3000\n",
    "weak_negative_size = 10\n",
    "weak_pair_iterator = weak_pairIterator(\n",
    "    weak_id,\n",
    "    mono0_unigram_table,\n",
    "    mono1_unigram_table,\n",
    "    batch_size=weak_batch_size,\n",
    "    negative_samples=weak_negative_size,\n",
    "    l0_dict=l0_dict,\n",
    "    l1_dict=l1_dict\n",
    ")\n"
   ]
  },
  {
   "cell_type": "code",
   "execution_count": 73,
   "metadata": {},
   "outputs": [
    {
     "name": "stdout",
     "output_type": "stream",
     "text": [
      "OUTPUT Tensor(\"dot_2/MatMul:0\", shape=(?, 1, 1), dtype=float32)\n",
      "OUTPUT Tensor(\"flatten_3/Reshape:0\", shape=(?, ?), dtype=float32)\n",
      "OUTPUT Tensor(\"multiply_1/mul:0\", shape=(?, ?), dtype=float32)\n"
     ]
    }
   ],
   "source": [
    "emb_dim = 50\n",
    "encoder_desc_length = 15\n",
    "(\n",
    "    word2vec_model,\n",
    "    bilbowa_model,\n",
    "    strong_pair_model,\n",
    "    weak_pair_model,\n",
    "    word2vec_model_infer,\n",
    "    bilbowa_model_infer,\n",
    "    strong_pair_model_infer,\n",
    "    weak_pair_model_infer\n",
    ") = get_model(\n",
    "    nb_word=len(vocab),\n",
    "    dim=emb_dim,\n",
    "    length=bilbowa_sent_length,\n",
    "    desc_length=encoder_desc_length,\n",
    "    word_emb_matrix=emb_matrix,\n",
    "    context_emb_matrix=ctxemb_matrix,\n",
    ")\n"
   ]
  }
 ],
 "metadata": {
  "kernelspec": {
   "display_name": "Python 3",
   "language": "python",
   "name": "python3"
  },
  "language_info": {
   "codemirror_mode": {
    "name": "ipython",
    "version": 3
   },
   "file_extension": ".py",
   "mimetype": "text/x-python",
   "name": "python",
   "nbconvert_exporter": "python",
   "pygments_lexer": "ipython3",
   "version": "3.6.4"
  }
 },
 "nbformat": 4,
 "nbformat_minor": 2
}
